{
  "nbformat": 4,
  "nbformat_minor": 0,
  "metadata": {
    "colab": {
      "provenance": [],
      "include_colab_link": true
    },
    "kernelspec": {
      "name": "python3",
      "display_name": "Python 3"
    },
    "language_info": {
      "name": "python"
    }
  },
  "cells": [
    {
      "cell_type": "markdown",
      "metadata": {
        "id": "view-in-github",
        "colab_type": "text"
      },
      "source": [
        "<a href=\"https://colab.research.google.com/github/joelsnz/joelsnz/blob/main/Notebook/Trabajo_Diccionarios/Notebook_1_Diccionarios.ipynb\" target=\"_parent\"><img src=\"https://colab.research.google.com/assets/colab-badge.svg\" alt=\"Open In Colab\"/></a>"
      ]
    },
    {
      "cell_type": "markdown",
      "source": [
        "# Qué es un diccionario?"
      ],
      "metadata": {
        "id": "i0V4d19Azka8"
      }
    },
    {
      "cell_type": "markdown",
      "source": [
        "Un diccionario es una *estructura de datos* de Python:\n",
        "\n",
        "- Una estructura de datos es una forma que tiene un lenguaje de programación de organizar cierta información\n",
        "  - Hay 4 incorporadas: listas, diccionarios, set y tuplas.\n",
        "  - No nativas: DataFrames, np.array, pd.Series, etc.\n",
        "\n"
      ],
      "metadata": {
        "id": "7Vx1kyi70rM5"
      }
    },
    {
      "cell_type": "markdown",
      "source": [
        "##  Estructura:\n",
        " - pares llave:valor (key:value)\n",
        " - las llaves deben ser objetos inmutables: *(str, int, float)* ya que este tipo de datos son *hasheables*, se les asigna un **ID único** para acceder a ellos rápidamente\n",
        " - Sus llaves se pueden ordenar desde Python 3.7 (en 2022 estamos en 3.9)\n",
        "\n"
      ],
      "metadata": {
        "id": "8kUiDfuxiBoK"
      }
    },
    {
      "cell_type": "markdown",
      "source": [
        "## ¿Qué ventajas tiene?\n",
        "\n",
        "  - Permiten almacenar información con diferentes tipos de datos de una forma estructurada\n",
        "  - Rápidos de acceder debido al [hash](https://www.programiz.com/python-programming/methods/built-in/hash) de las llaves\n",
        "  - Formato común en APIs, por lo que es conveniente saber usarlos."
      ],
      "metadata": {
        "id": "hMVl57yDiFlZ"
      }
    },
    {
      "cell_type": "markdown",
      "source": [
        "# Crear diccionarios:\n",
        "\n",
        "Hay dos métodos principales, que funcionan igual:"
      ],
      "metadata": {
        "id": "FiDdmPIokNKC"
      }
    },
    {
      "cell_type": "markdown",
      "source": [
        "### Método 1\n",
        "Creándolo con llaves *{}*\n"
      ],
      "metadata": {
        "id": "nNu32vnNlcoF"
      }
    },
    {
      "cell_type": "code",
      "source": [
        "dct = {\n",
        "    'numero': 1,\n",
        "    'diccionario': {2: 'string1',\n",
        "                    3: 'string2'},\n",
        "     'lista': [4, 5, 6]\n",
        "      }"
      ],
      "metadata": {
        "id": "q0EJZfl1lsHz"
      },
      "execution_count": null,
      "outputs": []
    },
    {
      "cell_type": "markdown",
      "source": [
        "### Método 2\n",
        "Creándolo con la función `dict(lista_tuplas)`:\n"
      ],
      "metadata": {
        "id": "zY-pG2e5l6vb"
      }
    },
    {
      "cell_type": "code",
      "source": [
        "## Creamos exactamente el mismo diccionario\n",
        "\n",
        "dct2 = dict([('numero', 1),\n",
        "            ('diccionario', {2: 'string1', 3: 'string2'}),\n",
        "            ('lista', [4, 5, 6])])"
      ],
      "metadata": {
        "id": "hSiu2VpHl3UN"
      },
      "execution_count": null,
      "outputs": []
    },
    {
      "cell_type": "code",
      "source": [
        "## Comprobamos\n",
        "\n",
        "dct == dct2"
      ],
      "metadata": {
        "colab": {
          "base_uri": "https://localhost:8080/"
        },
        "id": "BdGeN7CamhZB",
        "outputId": "1cb10efb-1d84-403d-ea53-c3fb9522d139"
      },
      "execution_count": null,
      "outputs": [
        {
          "output_type": "execute_result",
          "data": {
            "text/plain": [
              "True"
            ]
          },
          "metadata": {},
          "execution_count": 63
        }
      ]
    },
    {
      "cell_type": "markdown",
      "source": [
        "## Bonus!\n",
        "\n",
        "Un compañero nos ha compartido un método que no aparece en clase.\n",
        "\n",
        "También podemos crear diccionarios de columnas de nuestros DataFrames con el método `df['col'].to_dict()`:"
      ],
      "metadata": {
        "id": "NB9pkn79ahwr"
      }
    },
    {
      "cell_type": "code",
      "source": [
        "import pandas as pd\n",
        "\n",
        "data = range(5)\n",
        "index = ['a', 'b', 'c', 'd', 'e' ]\n",
        "\n",
        "df = pd.DataFrame(data = data, index = index)"
      ],
      "metadata": {
        "id": "p5W9orkza1SO"
      },
      "execution_count": null,
      "outputs": []
    },
    {
      "cell_type": "code",
      "source": [
        "df[0].to_dict()"
      ],
      "metadata": {
        "colab": {
          "base_uri": "https://localhost:8080/"
        },
        "id": "VMqKqArCbAw_",
        "outputId": "972de0e3-1336-410a-a970-4a59bf97e3eb"
      },
      "execution_count": null,
      "outputs": [
        {
          "output_type": "execute_result",
          "data": {
            "text/plain": [
              "{'a': 0, 'b': 1, 'c': 2, 'd': 3, 'e': 4}"
            ]
          },
          "metadata": {},
          "execution_count": 10
        }
      ]
    },
    {
      "cell_type": "markdown",
      "source": [
        "Gracias Daniel Ramírez!"
      ],
      "metadata": {
        "id": "O-VHLHw6dTkU"
      }
    },
    {
      "cell_type": "markdown",
      "source": [
        "# Acceder información\n",
        "Para acceder a los datos contenidos en nuestros diccionarios, lo haremos usando métodos asociados a ellos (ya que son objetos)"
      ],
      "metadata": {
        "id": "O7zztU5dFdVK"
      }
    },
    {
      "cell_type": "markdown",
      "source": [
        "## Llaves (keys)\n",
        "\n",
        "Para obtener una lista de las llaves, usamos el método `dict.keys()`"
      ],
      "metadata": {
        "id": "rrXN87ewFqXg"
      }
    },
    {
      "cell_type": "code",
      "source": [
        "dct.keys()"
      ],
      "metadata": {
        "colab": {
          "base_uri": "https://localhost:8080/"
        },
        "id": "a5r7f2f6F1e9",
        "outputId": "7ce36d63-5228-49e7-c2d0-f2c8debb42f6"
      },
      "execution_count": null,
      "outputs": [
        {
          "output_type": "execute_result",
          "data": {
            "text/plain": [
              "dict_keys(['numero', 'diccionario', 'lista'])"
            ]
          },
          "metadata": {},
          "execution_count": 64
        }
      ]
    },
    {
      "cell_type": "markdown",
      "source": [
        "## Valores (values)\n",
        "\n",
        "Con otro método, accedemos a sus valores:"
      ],
      "metadata": {
        "id": "PE0lPffNv40b"
      }
    },
    {
      "cell_type": "code",
      "source": [
        "dct.values()"
      ],
      "metadata": {
        "colab": {
          "base_uri": "https://localhost:8080/"
        },
        "id": "3mUzu7Bmv9cD",
        "outputId": "5fc646fa-e69a-4e7d-c45a-0b7d648ce149"
      },
      "execution_count": null,
      "outputs": [
        {
          "output_type": "execute_result",
          "data": {
            "text/plain": [
              "dict_values([1, {2: 'string1', 3: 'string2'}, [4, 5, 6]])"
            ]
          },
          "metadata": {},
          "execution_count": 65
        }
      ]
    },
    {
      "cell_type": "markdown",
      "source": [
        "También podemos acceder a los valores de ciertas llaves indicando el nombre de la propia llave:"
      ],
      "metadata": {
        "id": "5eT4iAgdR4dN"
      }
    },
    {
      "cell_type": "code",
      "source": [
        "dct['lista']"
      ],
      "metadata": {
        "colab": {
          "base_uri": "https://localhost:8080/"
        },
        "id": "giN-Vd1MWpgL",
        "outputId": "946d2129-d9da-4e1d-e2b7-021b6be0dc69"
      },
      "execution_count": null,
      "outputs": [
        {
          "output_type": "execute_result",
          "data": {
            "text/plain": [
              "[4, 5, 6]"
            ]
          },
          "metadata": {},
          "execution_count": 66
        }
      ]
    },
    {
      "cell_type": "markdown",
      "source": [
        "## Llaves y valores (items)\n",
        "\n",
        "Podemos extraer una lista de tuplas con los elementos (llave, valor) de nuestro diccionario:"
      ],
      "metadata": {
        "id": "2ALENPmlwOmU"
      }
    },
    {
      "cell_type": "code",
      "source": [
        "dct.items()"
      ],
      "metadata": {
        "colab": {
          "base_uri": "https://localhost:8080/"
        },
        "id": "XnwxiOdxwgzk",
        "outputId": "871f3593-34c7-4e63-a28d-b303fda1b059"
      },
      "execution_count": null,
      "outputs": [
        {
          "output_type": "execute_result",
          "data": {
            "text/plain": [
              "dict_items([('numero', 1), ('diccionario', {2: 'string1', 3: 'string2'}), ('lista', [4, 5, 6])])"
            ]
          },
          "metadata": {},
          "execution_count": 67
        }
      ]
    },
    {
      "cell_type": "markdown",
      "source": [
        "# Añadir valores"
      ],
      "metadata": {
        "id": "SIFcC5VhrToA"
      }
    },
    {
      "cell_type": "markdown",
      "source": [
        "### Método 1\n",
        "\n",
        "Usando el accesor `dict['llave']`:"
      ],
      "metadata": {
        "id": "EPN4TiyVrYqd"
      }
    },
    {
      "cell_type": "code",
      "source": [
        "dct['Mastermind'] = 'Ciencia de datos'\n",
        "\n",
        "dct"
      ],
      "metadata": {
        "colab": {
          "base_uri": "https://localhost:8080/"
        },
        "id": "emwfuas5riAx",
        "outputId": "ec4cefa2-4218-4bca-9869-a8bd88f68184"
      },
      "execution_count": null,
      "outputs": [
        {
          "output_type": "execute_result",
          "data": {
            "text/plain": [
              "{'numero': 1,\n",
              " 'diccionario': {2: 'string1', 3: 'string2'},\n",
              " 'lista': [4, 5, 6],\n",
              " 'Mastermind': 'Ciencia de datos'}"
            ]
          },
          "metadata": {},
          "execution_count": 68
        }
      ]
    },
    {
      "cell_type": "markdown",
      "source": [
        "### Método 2\n",
        "\n",
        "Usando el método `dict.update([(tupla llave, valor)])`:"
      ],
      "metadata": {
        "id": "leahdEOwz56l"
      }
    },
    {
      "cell_type": "code",
      "source": [
        "tupla1 = ('llave_tupla1', 10)\n",
        "tupla2 = ('llave_tupla2', 20)\n",
        "\n",
        "dct.update([tupla1, tupla2])"
      ],
      "metadata": {
        "id": "fcHI1yBCz19a"
      },
      "execution_count": null,
      "outputs": []
    },
    {
      "cell_type": "markdown",
      "source": [
        "# Eliminar valores"
      ],
      "metadata": {
        "id": "khRdRsxKXUbc"
      }
    },
    {
      "cell_type": "markdown",
      "source": [
        "## Extrayendo un valor\n",
        "\n",
        "Podemos extraer un valor de nuestro diccionario para asignarlo a una variable con `dct.pop()`"
      ],
      "metadata": {
        "id": "xGnQraKGXXP7"
      }
    },
    {
      "cell_type": "code",
      "source": [
        "lista = dct.pop('lista')\n",
        "\n",
        "lista"
      ],
      "metadata": {
        "colab": {
          "base_uri": "https://localhost:8080/"
        },
        "id": "Gq_zCsHCXamu",
        "outputId": "3220f670-c6df-4ec6-fda5-1ace5ef0aedb"
      },
      "execution_count": null,
      "outputs": [
        {
          "output_type": "execute_result",
          "data": {
            "text/plain": [
              "[4, 5, 6]"
            ]
          },
          "metadata": {},
          "execution_count": 70
        }
      ]
    },
    {
      "cell_type": "code",
      "source": [
        "dct"
      ],
      "metadata": {
        "colab": {
          "base_uri": "https://localhost:8080/"
        },
        "id": "e0zwMG37XqQ_",
        "outputId": "228447cd-34c9-403f-8ee1-dbbf9503644b"
      },
      "execution_count": null,
      "outputs": [
        {
          "output_type": "execute_result",
          "data": {
            "text/plain": [
              "{'numero': 1,\n",
              " 'diccionario': {2: 'string1', 3: 'string2'},\n",
              " 'Mastermind': 'Ciencia de datos',\n",
              " 'llave_tupla1': 10,\n",
              " 'llave_tupla2': 20}"
            ]
          },
          "metadata": {},
          "execution_count": 71
        }
      ]
    },
    {
      "cell_type": "markdown",
      "source": [
        "## Eliminar una llave\n",
        "\n",
        "El *keyword* `del dct[llave]` eliminará la llave indicada en nuestro diccionario:"
      ],
      "metadata": {
        "id": "KU-k1Nh3Xrwg"
      }
    },
    {
      "cell_type": "code",
      "source": [
        "del dct['diccionario']\n",
        "\n",
        "dct"
      ],
      "metadata": {
        "colab": {
          "base_uri": "https://localhost:8080/"
        },
        "id": "GqlxpgAmX1Nj",
        "outputId": "72a90ab1-dd26-4ea1-de42-97a40d38d711"
      },
      "execution_count": null,
      "outputs": [
        {
          "output_type": "execute_result",
          "data": {
            "text/plain": [
              "{'numero': 1,\n",
              " 'Mastermind': 'Ciencia de datos',\n",
              " 'llave_tupla1': 10,\n",
              " 'llave_tupla2': 20}"
            ]
          },
          "metadata": {},
          "execution_count": 72
        }
      ]
    },
    {
      "cell_type": "markdown",
      "source": [
        "# zip()\n",
        "\n"
      ],
      "metadata": {
        "id": "6oPW-p5zqdmT"
      }
    },
    {
      "cell_type": "markdown",
      "source": [
        "* Para construir diccionarios a partir de listas ordenadas, podemos usar la función *zip()*\n",
        "\n",
        "* *zip()* es una función nativa de Python que coge objetos iterables *(listas, sets, diccionarios)* y construye una **tupla** con cada valor de cada uno de ellos, por orden.\n",
        "\n",
        "* esto resultará en un *objeto tipo zip*.\n",
        "\n",
        "* **se tiene que invocar con una función que lo transforme en un iterable** para mostrar los pares de tuplas\n",
        "\n",
        "* `zip(it1, it2)` devolverá un objeto tipo zip\n"
      ],
      "metadata": {
        "id": "6A2van55vuRt"
      }
    },
    {
      "cell_type": "code",
      "source": [
        "it1 = [x for x in range(10)]\n",
        "it2 = [x**2 for x in it1]\n",
        "\n",
        "zip(it1, it2)"
      ],
      "metadata": {
        "id": "f3irZ5a-DYcS",
        "colab": {
          "base_uri": "https://localhost:8080/"
        },
        "outputId": "6ba2afeb-5100-4c41-89a5-014189054fd5"
      },
      "execution_count": null,
      "outputs": [
        {
          "output_type": "execute_result",
          "data": {
            "text/plain": [
              "<zip at 0x7fb0ad43bdc0>"
            ]
          },
          "metadata": {},
          "execution_count": 73
        }
      ]
    },
    {
      "cell_type": "markdown",
      "source": [
        "* Si lo incluimos en una lista, nos devuelve pares de tuplas:"
      ],
      "metadata": {
        "id": "6wmFigwX2HB1"
      }
    },
    {
      "cell_type": "code",
      "source": [
        "list(zip(it1, it2))"
      ],
      "metadata": {
        "colab": {
          "base_uri": "https://localhost:8080/"
        },
        "id": "TE7s5c16xv5v",
        "outputId": "99ce42c7-a654-442e-cfea-a0712bfb81ab"
      },
      "execution_count": null,
      "outputs": [
        {
          "output_type": "execute_result",
          "data": {
            "text/plain": [
              "[(0, 0),\n",
              " (1, 1),\n",
              " (2, 4),\n",
              " (3, 9),\n",
              " (4, 16),\n",
              " (5, 25),\n",
              " (6, 36),\n",
              " (7, 49),\n",
              " (8, 64),\n",
              " (9, 81)]"
            ]
          },
          "metadata": {},
          "execution_count": 74
        }
      ]
    },
    {
      "cell_type": "markdown",
      "source": [
        "* Con la función dict() podemos rápidamente transformar este zip en un diccionario:"
      ],
      "metadata": {
        "id": "OlLBbj-D2R1N"
      }
    },
    {
      "cell_type": "code",
      "source": [
        "dct = dict(zip(it1, it2))\n",
        "\n",
        "dct"
      ],
      "metadata": {
        "colab": {
          "base_uri": "https://localhost:8080/"
        },
        "id": "no6X9beh2Q2D",
        "outputId": "395f292a-c6e9-4b2a-99c8-77e23dd159bd"
      },
      "execution_count": null,
      "outputs": [
        {
          "output_type": "execute_result",
          "data": {
            "text/plain": [
              "{0: 0, 1: 1, 2: 4, 3: 9, 4: 16, 5: 25, 6: 36, 7: 49, 8: 64, 9: 81}"
            ]
          },
          "metadata": {},
          "execution_count": 75
        }
      ]
    },
    {
      "cell_type": "markdown",
      "source": [],
      "metadata": {
        "id": "zhSmFJVzx0SK"
      }
    },
    {
      "cell_type": "markdown",
      "source": [
        "# Dictionary Comprehension\n",
        "\n",
        "* Como las list comprehension, sirven para facilitar el proceso de creación de diccionarios\n",
        "\n",
        "* Iteraremos por las tuplas que contienen tanto las llaves como los valores, con dict.items():\n",
        "\n",
        "\n"
      ],
      "metadata": {
        "id": "wfFB5I3Gqej3"
      }
    },
    {
      "cell_type": "markdown",
      "source": [
        "`{key:value for (key,value) in dict.items()}`"
      ],
      "metadata": {
        "id": "FVvwZcjwfggt"
      }
    },
    {
      "cell_type": "markdown",
      "source": [
        "Vamos a sumar 1 a tanto las llaves como los valores de nuestro diccionario anterior:"
      ],
      "metadata": {
        "id": "rdIzHUKlfslj"
      }
    },
    {
      "cell_type": "code",
      "source": [
        "dct"
      ],
      "metadata": {
        "colab": {
          "base_uri": "https://localhost:8080/"
        },
        "id": "wFtbbC-hfoJY",
        "outputId": "ac1e6762-0aea-43ce-a951-52cb9efe2b30"
      },
      "execution_count": null,
      "outputs": [
        {
          "output_type": "execute_result",
          "data": {
            "text/plain": [
              "{0: 0, 1: 1, 2: 4, 3: 9, 4: 16, 5: 25, 6: 36, 7: 49, 8: 64, 9: 81}"
            ]
          },
          "metadata": {},
          "execution_count": 76
        }
      ]
    },
    {
      "cell_type": "code",
      "source": [
        "dct2 = {key+1: value+1 for (key,value) in dct.items()}\n",
        "\n",
        "dct2"
      ],
      "metadata": {
        "colab": {
          "base_uri": "https://localhost:8080/"
        },
        "id": "r8nV9VGlf4el",
        "outputId": "76628e60-075e-4c1b-8024-78b072c66c27"
      },
      "execution_count": null,
      "outputs": [
        {
          "output_type": "execute_result",
          "data": {
            "text/plain": [
              "{1: 1, 2: 2, 3: 5, 4: 10, 5: 17, 6: 26, 7: 37, 8: 50, 9: 65, 10: 82}"
            ]
          },
          "metadata": {},
          "execution_count": 77
        }
      ]
    },
    {
      "cell_type": "markdown",
      "source": [
        "# Ejercicios"
      ],
      "metadata": {
        "id": "SBqSxfzaFLo4"
      }
    },
    {
      "cell_type": "markdown",
      "source": [
        "### 1: Construye un diccionario con **a** como llaves, y los valores de **b** elevados al cuadrado:\n",
        "\n"
      ],
      "metadata": {
        "id": "a1py6-LHkTQu"
      }
    },
    {
      "cell_type": "code",
      "source": [
        "a = ['Cinco', 'Nueve', 'Trece']\n",
        "b = [5, 9, 13]\n",
        "\n",
        "## codigo aquí\n",
        "\n",
        "dct1 = dict(zip(a, [i*i for i in b]))\n",
        "\n",
        "dct1"
      ],
      "metadata": {
        "id": "57e_NVR4FXHs",
        "colab": {
          "base_uri": "https://localhost:8080/"
        },
        "outputId": "6495a3a4-fbf1-4583-8bd1-f87a3ece1234"
      },
      "execution_count": 13,
      "outputs": [
        {
          "output_type": "execute_result",
          "data": {
            "text/plain": [
              "{'Cinco': 25, 'Nueve': 81, 'Trece': 169}"
            ]
          },
          "metadata": {},
          "execution_count": 13
        }
      ]
    },
    {
      "cell_type": "code",
      "source": [
        "#@title Solucion\n",
        "\n",
        "dct = dict(zip(a, [x**2 for x in b]))\n",
        "\n",
        "dct"
      ],
      "metadata": {
        "cellView": "form",
        "id": "HIp7gG8zFLo9",
        "colab": {
          "base_uri": "https://localhost:8080/"
        },
        "outputId": "5a3c22da-2b8e-4427-9d28-8737a7c88753"
      },
      "execution_count": 2,
      "outputs": [
        {
          "output_type": "execute_result",
          "data": {
            "text/plain": [
              "{'Cinco': 25, 'Nueve': 81, 'Trece': 169}"
            ]
          },
          "metadata": {},
          "execution_count": 2
        }
      ]
    },
    {
      "cell_type": "markdown",
      "source": [
        "### 2: Escribe un *script* que construya un diccionario a partir de `dct`, tomándo sólo las llaves en la lista `llaves`:\n",
        "\n"
      ],
      "metadata": {
        "id": "qEocPFB1qHka"
      }
    },
    {
      "cell_type": "code",
      "source": [
        "dct = {\n",
        "    \"nombre\": \"Yosuke\",\n",
        "    \"edad\": 32,\n",
        "    \"salario\": 82000,\n",
        "    \"ciudad\": \"Tokyo\",\n",
        "    \"profesión\": \"Data Scientist\"}\n",
        "\n",
        "## codigo aquí\n",
        "\n",
        "llaves = [\"edad\", \"ciudad\"]\n",
        "\n",
        "dct2 = {llave: dct[llave] for llave in llaves}\n",
        "\n",
        "dct2"
      ],
      "metadata": {
        "id": "D5UNaehvqHka",
        "colab": {
          "base_uri": "https://localhost:8080/"
        },
        "outputId": "7537ee3d-2fe1-47e1-aa71-aa5ab7f0f5f1"
      },
      "execution_count": 14,
      "outputs": [
        {
          "output_type": "execute_result",
          "data": {
            "text/plain": [
              "{'edad': 32, 'ciudad': 'Tokyo'}"
            ]
          },
          "metadata": {},
          "execution_count": 14
        }
      ]
    },
    {
      "cell_type": "code",
      "source": [
        "#@title Solucion\n",
        "\n",
        "nuevo_dict = {llave: dct[llave] for llave in llaves}\n",
        "\n",
        "nuevo_dict"
      ],
      "metadata": {
        "cellView": "form",
        "id": "FWhgb5haqHka",
        "colab": {
          "base_uri": "https://localhost:8080/"
        },
        "outputId": "eb464d3f-d51d-449f-de69-e65dcf50f579"
      },
      "execution_count": 6,
      "outputs": [
        {
          "output_type": "execute_result",
          "data": {
            "text/plain": [
              "{'edad': 32, 'ciudad': 'Tokyo'}"
            ]
          },
          "metadata": {},
          "execution_count": 6
        }
      ]
    },
    {
      "cell_type": "markdown",
      "source": [
        "### 3: Construye un **Frequency Table**, es decir, un diccionario en el que las *llaves* sean los valores únicos de la lista `numeros`, y sus *valores* sean la cantidad de veces que se repiten.\n"
      ],
      "metadata": {
        "id": "Xyb7o_dLqIqd"
      }
    },
    {
      "cell_type": "code",
      "source": [
        "numeros = [1, 1, 1, 5, 5, 3, 1, 3, 3, 1, 4, 4, 4, 2, 2, 5,\n",
        "        5, 3, 1, 3, 3, 1, 4, 4, 2, 2, 5, 3, 1, 3, 3, 1,\n",
        "        4, 4, 4, 2, 2, 5, 5, 3, 1, 3, 3, 1, 4, 4, 2, 2]\n",
        "\n",
        "## codigo aquí\n",
        "\n",
        "dct3 = {}\n",
        "\n",
        "for n in numeros:\n",
        "  if n in dct3:\n",
        "    dct3[n] += 1\n",
        "  else:\n",
        "    dct3[n] = 1\n",
        "\n",
        "dct3"
      ],
      "metadata": {
        "id": "Lz2YVAjdqIqd",
        "colab": {
          "base_uri": "https://localhost:8080/"
        },
        "outputId": "8a1520ad-3370-4b8b-bca4-8bdc5c3b824d"
      },
      "execution_count": 15,
      "outputs": [
        {
          "output_type": "execute_result",
          "data": {
            "text/plain": [
              "{1: 11, 5: 7, 3: 12, 4: 10, 2: 8}"
            ]
          },
          "metadata": {},
          "execution_count": 15
        }
      ]
    },
    {
      "cell_type": "code",
      "source": [
        "#@title Solucion\n",
        "\n",
        "def freq_table(lista):\n",
        "\n",
        "    # Creamos un diccionario vacio\n",
        "    dct = {}\n",
        "\n",
        "    for i in lista:\n",
        "\n",
        "        if i in dct:\n",
        "            dct[i] += 1\n",
        "        else:\n",
        "            dct[i] = 1\n",
        "\n",
        "    return dct\n",
        "\n",
        "freq_table(numeros)"
      ],
      "metadata": {
        "cellView": "form",
        "id": "M-NqsziOqIqd",
        "colab": {
          "base_uri": "https://localhost:8080/"
        },
        "outputId": "e25f52f0-2867-4be5-ce9d-29b813d520e4"
      },
      "execution_count": 12,
      "outputs": [
        {
          "output_type": "execute_result",
          "data": {
            "text/plain": [
              "{1: 11, 5: 7, 3: 12, 4: 10, 2: 8}"
            ]
          },
          "metadata": {},
          "execution_count": 12
        }
      ]
    },
    {
      "cell_type": "markdown",
      "source": [
        "### 4: Construye un diccionario transformando los valores de kg a libras con la relación proporcionada:"
      ],
      "metadata": {
        "id": "a5Z9cXXeqJGL"
      }
    },
    {
      "cell_type": "code",
      "source": [
        "kg = {'peso1': 53, 'peso2': 99, 'peso3': 89, 'peso4': 83}\n",
        "\n",
        "kg_a_libras = 2.20462 ## Relación Kg/Libras\n",
        "\n",
        "## codigo aquí\n",
        "\n",
        "lb = {key: value*kg_a_libras for (key, value) in kg.items()}\n",
        "\n",
        "lb"
      ],
      "metadata": {
        "id": "3RFykVfMqJGL",
        "colab": {
          "base_uri": "https://localhost:8080/"
        },
        "outputId": "5959a4ec-28d8-4fbc-c7c0-9f5819a4dc80"
      },
      "execution_count": 24,
      "outputs": [
        {
          "output_type": "execute_result",
          "data": {
            "text/plain": [
              "{'peso1': 116.84485999999998,\n",
              " 'peso2': 218.25737999999998,\n",
              " 'peso3': 196.21117999999998,\n",
              " 'peso4': 182.98345999999998}"
            ]
          },
          "metadata": {},
          "execution_count": 24
        }
      ]
    },
    {
      "cell_type": "code",
      "source": [
        "#@title Solucion 1\n",
        "\n",
        "dct = { key: value*kg_a_libras for (key, value) in kg.items()}\n",
        "\n",
        "dct"
      ],
      "metadata": {
        "cellView": "form",
        "id": "May7I7VQqJGL"
      },
      "execution_count": null,
      "outputs": []
    },
    {
      "cell_type": "code",
      "source": [
        "#@title Solucion 2 (avanzada)\n",
        "\n",
        "libras = list(map(lambda x: x * kg_a_libras, kg.values()))\n",
        "\n",
        "dct = dict(zip(kg.keys(), libras))\n",
        "\n",
        "dct"
      ],
      "metadata": {
        "cellView": "form",
        "id": "IgIEa-mw4aWw"
      },
      "execution_count": null,
      "outputs": []
    },
    {
      "cell_type": "code",
      "source": [],
      "metadata": {
        "id": "RawFmexiV3pK"
      },
      "execution_count": null,
      "outputs": []
    }
  ]
}